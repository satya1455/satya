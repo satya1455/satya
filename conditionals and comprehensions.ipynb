{
 "cells": [
  {
   "cell_type": "code",
   "execution_count": 1,
   "id": "86dc6ed9-6104-4d1c-a940-81675d22132e",
   "metadata": {},
   "outputs": [
    {
     "name": "stdout",
     "output_type": "stream",
     "text": [
      "even\n"
     ]
    }
   ],
   "source": [
    "num=6\n",
    "if num%2==0:\n",
    "    print(\"even\")\n",
    "else:\n",
    "    print(\"odd\")"
   ]
  },
  {
   "cell_type": "code",
   "execution_count": 3,
   "id": "c1904942-51de-49af-94c4-da0cdfd9b08c",
   "metadata": {},
   "outputs": [
    {
     "name": "stdout",
     "output_type": "stream",
     "text": [
      "even\n"
     ]
    }
   ],
   "source": [
    "print(\"even\") if num%2==0 else print(\"odd\")"
   ]
  },
  {
   "cell_type": "code",
   "execution_count": 3,
   "id": "18a8a761-9c6e-46a3-b205-daf364ec2374",
   "metadata": {},
   "outputs": [
    {
     "name": "stdout",
     "output_type": "stream",
     "text": [
      "even\n"
     ]
    }
   ],
   "source": [
    "print(\"even\") if num%2==0 else print(\"odd\")"
   ]
  },
  {
   "cell_type": "code",
   "execution_count": 19,
   "id": "a5505f81-d598-4512-982c-ed88fe4a9ec6",
   "metadata": {},
   "outputs": [
    {
     "name": "stdout",
     "output_type": "stream",
     "text": [
      "negative\n"
     ]
    }
   ],
   "source": [
    "x=-10\n",
    "result=\"positive\" if x>0 else \"negative\" if x < 0 else \"Zero\"\n",
    "print(result)"
   ]
  },
  {
   "cell_type": "code",
   "execution_count": 13,
   "id": "7acce70a-3ea8-4cc9-b24e-bf2f22094f2f",
   "metadata": {},
   "outputs": [
    {
     "name": "stdout",
     "output_type": "stream",
     "text": [
      "Adult\n"
     ]
    }
   ],
   "source": [
    "age = 18\n",
    "category=\"Adult\"if age>=18 else \"Minor\"\n",
    "print(category)"
   ]
  },
  {
   "cell_type": "code",
   "execution_count": 29,
   "id": "cbdc533c-a3b5-4006-9e1d-17e4f0896022",
   "metadata": {},
   "outputs": [
    {
     "data": {
      "text/plain": [
       "[5, 10, 15, 20, 280, 380]"
      ]
     },
     "execution_count": 29,
     "metadata": {},
     "output_type": "execute_result"
    }
   ],
   "source": [
    "L=[1,2,3,4,56,76]\n",
    "[5*x for x in L]"
   ]
  },
  {
   "cell_type": "code",
   "execution_count": 31,
   "id": "cf9d46a2-cf2b-4b16-bd64-69ddad0cc0fa",
   "metadata": {},
   "outputs": [
    {
     "data": {
      "text/plain": [
       "[1, 3]"
      ]
     },
     "execution_count": 31,
     "metadata": {},
     "output_type": "execute_result"
    }
   ],
   "source": [
    "[x for x in L if x%2!=0]"
   ]
  },
  {
   "cell_type": "code",
   "execution_count": 35,
   "id": "5c131df3-e4bf-436e-9669-687104380aef",
   "metadata": {},
   "outputs": [
    {
     "data": {
      "text/plain": [
       "{'Ram': [70, 71, 98, 100], 'john': [56, 74, 83, 94]}"
      ]
     },
     "execution_count": 35,
     "metadata": {},
     "output_type": "execute_result"
    }
   ],
   "source": [
    "d1 = {'Ram':[70,71,98,100],'john':[56,74,83,94]}\n",
    "d1"
   ]
  },
  {
   "cell_type": "code",
   "execution_count": 37,
   "id": "4f28bd31-8b16-4b9b-a5ee-41f666e91ce5",
   "metadata": {},
   "outputs": [
    {
     "data": {
      "text/plain": [
       "{'Ram': 84.75, 'john': 76.75}"
      ]
     },
     "execution_count": 37,
     "metadata": {},
     "output_type": "execute_result"
    }
   ],
   "source": [
    "{k:sum(v)/len(v) for k,v in d1.items()}"
   ]
  },
  {
   "cell_type": "code",
   "execution_count": 43,
   "id": "cd2be1e6-cd8d-42b0-b44a-eedd49f389b5",
   "metadata": {},
   "outputs": [
    {
     "data": {
      "text/plain": [
       "9.0"
      ]
     },
     "execution_count": 43,
     "metadata": {},
     "output_type": "execute_result"
    }
   ],
   "source": [
    "def mean_value(given_list):\n",
    "    total=sum(given_list)\n",
    "    average_value=total/len(given_list)\n",
    "    return average_value\n",
    "given_list=[1,2,34,5,6,6]\n",
    "mean_value(given_list)"
   ]
  },
  {
   "cell_type": "code",
   "execution_count": null,
   "id": "01eb4c93-b059-49c6-aaac-e209d3f146d5",
   "metadata": {},
   "outputs": [],
   "source": []
  }
 ],
 "metadata": {
  "kernelspec": {
   "display_name": "Python [conda env:base] *",
   "language": "python",
   "name": "conda-base-py"
  },
  "language_info": {
   "codemirror_mode": {
    "name": "ipython",
    "version": 3
   },
   "file_extension": ".py",
   "mimetype": "text/x-python",
   "name": "python",
   "nbconvert_exporter": "python",
   "pygments_lexer": "ipython3",
   "version": "3.12.7"
  }
 },
 "nbformat": 4,
 "nbformat_minor": 5
}
