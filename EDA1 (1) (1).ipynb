{
 "cells": [
  {
   "cell_type": "code",
   "execution_count": 3,
   "id": "ae2b2fd5-8087-459a-a0f8-6cae8644fe04",
   "metadata": {},
   "outputs": [],
   "source": [
    "import pandas as pd\n",
    "import numpy as np\n",
    "import matplotlib.pyplot as plt\n",
    "import seaborn as sns"
   ]
  },
  {
   "cell_type": "code",
   "execution_count": 4,
   "id": "91c7ad9f-1cf4-48d0-918b-9263acf2c986",
   "metadata": {},
   "outputs": [
    {
     "name": "stdout",
     "output_type": "stream",
     "text": [
      "     Unnamed: 0  Ozone  Solar.R  Wind Temp C Month  Day  Year  Temp Weather\n",
      "0             1   41.0    190.0   7.4     67     5    1  2010    67       S\n",
      "1             2   36.0    118.0   8.0     72     5    2  2010    72       C\n",
      "2             3   12.0    149.0  12.6     74     5    3  2010    74      PS\n",
      "3             4   18.0    313.0  11.5     62     5    4  2010    62       S\n",
      "4             5    NaN      NaN  14.3     56     5    5  2010    56       S\n",
      "..          ...    ...      ...   ...    ...   ...  ...   ...   ...     ...\n",
      "153         154   41.0    190.0   7.4     67     5    1  2010    67       C\n",
      "154         155   30.0    193.0   6.9     70     9   26  2010    70      PS\n",
      "155         156    NaN    145.0  13.2     77     9   27  2010    77       S\n",
      "156         157   14.0    191.0  14.3     75     9   28  2010    75       S\n",
      "157         158   18.0    131.0   8.0     76     9   29  2010    76       C\n",
      "\n",
      "[158 rows x 10 columns]\n"
     ]
    }
   ],
   "source": [
    "data = pd.read_csv(\"data_clean.csv\")\n",
    "print(data)"
   ]
  },
  {
   "cell_type": "code",
   "execution_count": 5,
   "id": "d6603447-2806-4f74-90ce-bb49341f574d",
   "metadata": {},
   "outputs": [
    {
     "name": "stdout",
     "output_type": "stream",
     "text": [
      "<class 'pandas.core.frame.DataFrame'>\n",
      "RangeIndex: 158 entries, 0 to 157\n",
      "Data columns (total 10 columns):\n",
      " #   Column      Non-Null Count  Dtype  \n",
      "---  ------      --------------  -----  \n",
      " 0   Unnamed: 0  158 non-null    int64  \n",
      " 1   Ozone       120 non-null    float64\n",
      " 2   Solar.R     151 non-null    float64\n",
      " 3   Wind        158 non-null    float64\n",
      " 4   Temp C      158 non-null    object \n",
      " 5   Month       158 non-null    object \n",
      " 6   Day         158 non-null    int64  \n",
      " 7   Year        158 non-null    int64  \n",
      " 8   Temp        158 non-null    int64  \n",
      " 9   Weather     155 non-null    object \n",
      "dtypes: float64(3), int64(4), object(3)\n",
      "memory usage: 12.5+ KB\n"
     ]
    }
   ],
   "source": [
    "data.info()"
   ]
  },
  {
   "cell_type": "code",
   "execution_count": 6,
   "id": "83ae9073-db0b-407b-9866-59ebf86e8a39",
   "metadata": {},
   "outputs": [
    {
     "name": "stdout",
     "output_type": "stream",
     "text": [
      "<class 'pandas.core.frame.DataFrame'>\n",
      "(158, 10)\n"
     ]
    }
   ],
   "source": [
    "print(type(data))\n",
    "print(data.shape)"
   ]
  },
  {
   "cell_type": "code",
   "execution_count": 7,
   "id": "1ce98aca-0f19-4368-b045-051cd9ab34bd",
   "metadata": {},
   "outputs": [
    {
     "data": {
      "text/html": [
       "<div>\n",
       "<style scoped>\n",
       "    .dataframe tbody tr th:only-of-type {\n",
       "        vertical-align: middle;\n",
       "    }\n",
       "\n",
       "    .dataframe tbody tr th {\n",
       "        vertical-align: top;\n",
       "    }\n",
       "\n",
       "    .dataframe thead th {\n",
       "        text-align: right;\n",
       "    }\n",
       "</style>\n",
       "<table border=\"1\" class=\"dataframe\">\n",
       "  <thead>\n",
       "    <tr style=\"text-align: right;\">\n",
       "      <th></th>\n",
       "      <th>Ozone</th>\n",
       "      <th>Solar.R</th>\n",
       "      <th>Wind</th>\n",
       "      <th>Month</th>\n",
       "      <th>Day</th>\n",
       "      <th>Year</th>\n",
       "      <th>Temp</th>\n",
       "      <th>Weather</th>\n",
       "    </tr>\n",
       "  </thead>\n",
       "  <tbody>\n",
       "    <tr>\n",
       "      <th>0</th>\n",
       "      <td>41.0</td>\n",
       "      <td>190.0</td>\n",
       "      <td>7.4</td>\n",
       "      <td>5</td>\n",
       "      <td>1</td>\n",
       "      <td>2010</td>\n",
       "      <td>67</td>\n",
       "      <td>S</td>\n",
       "    </tr>\n",
       "    <tr>\n",
       "      <th>1</th>\n",
       "      <td>36.0</td>\n",
       "      <td>118.0</td>\n",
       "      <td>8.0</td>\n",
       "      <td>5</td>\n",
       "      <td>2</td>\n",
       "      <td>2010</td>\n",
       "      <td>72</td>\n",
       "      <td>C</td>\n",
       "    </tr>\n",
       "    <tr>\n",
       "      <th>2</th>\n",
       "      <td>12.0</td>\n",
       "      <td>149.0</td>\n",
       "      <td>12.6</td>\n",
       "      <td>5</td>\n",
       "      <td>3</td>\n",
       "      <td>2010</td>\n",
       "      <td>74</td>\n",
       "      <td>PS</td>\n",
       "    </tr>\n",
       "    <tr>\n",
       "      <th>3</th>\n",
       "      <td>18.0</td>\n",
       "      <td>313.0</td>\n",
       "      <td>11.5</td>\n",
       "      <td>5</td>\n",
       "      <td>4</td>\n",
       "      <td>2010</td>\n",
       "      <td>62</td>\n",
       "      <td>S</td>\n",
       "    </tr>\n",
       "    <tr>\n",
       "      <th>4</th>\n",
       "      <td>NaN</td>\n",
       "      <td>NaN</td>\n",
       "      <td>14.3</td>\n",
       "      <td>5</td>\n",
       "      <td>5</td>\n",
       "      <td>2010</td>\n",
       "      <td>56</td>\n",
       "      <td>S</td>\n",
       "    </tr>\n",
       "    <tr>\n",
       "      <th>...</th>\n",
       "      <td>...</td>\n",
       "      <td>...</td>\n",
       "      <td>...</td>\n",
       "      <td>...</td>\n",
       "      <td>...</td>\n",
       "      <td>...</td>\n",
       "      <td>...</td>\n",
       "      <td>...</td>\n",
       "    </tr>\n",
       "    <tr>\n",
       "      <th>153</th>\n",
       "      <td>41.0</td>\n",
       "      <td>190.0</td>\n",
       "      <td>7.4</td>\n",
       "      <td>5</td>\n",
       "      <td>1</td>\n",
       "      <td>2010</td>\n",
       "      <td>67</td>\n",
       "      <td>C</td>\n",
       "    </tr>\n",
       "    <tr>\n",
       "      <th>154</th>\n",
       "      <td>30.0</td>\n",
       "      <td>193.0</td>\n",
       "      <td>6.9</td>\n",
       "      <td>9</td>\n",
       "      <td>26</td>\n",
       "      <td>2010</td>\n",
       "      <td>70</td>\n",
       "      <td>PS</td>\n",
       "    </tr>\n",
       "    <tr>\n",
       "      <th>155</th>\n",
       "      <td>NaN</td>\n",
       "      <td>145.0</td>\n",
       "      <td>13.2</td>\n",
       "      <td>9</td>\n",
       "      <td>27</td>\n",
       "      <td>2010</td>\n",
       "      <td>77</td>\n",
       "      <td>S</td>\n",
       "    </tr>\n",
       "    <tr>\n",
       "      <th>156</th>\n",
       "      <td>14.0</td>\n",
       "      <td>191.0</td>\n",
       "      <td>14.3</td>\n",
       "      <td>9</td>\n",
       "      <td>28</td>\n",
       "      <td>2010</td>\n",
       "      <td>75</td>\n",
       "      <td>S</td>\n",
       "    </tr>\n",
       "    <tr>\n",
       "      <th>157</th>\n",
       "      <td>18.0</td>\n",
       "      <td>131.0</td>\n",
       "      <td>8.0</td>\n",
       "      <td>9</td>\n",
       "      <td>29</td>\n",
       "      <td>2010</td>\n",
       "      <td>76</td>\n",
       "      <td>C</td>\n",
       "    </tr>\n",
       "  </tbody>\n",
       "</table>\n",
       "<p>158 rows × 8 columns</p>\n",
       "</div>"
      ],
      "text/plain": [
       "     Ozone  Solar.R  Wind Month  Day  Year  Temp Weather\n",
       "0     41.0    190.0   7.4     5    1  2010    67       S\n",
       "1     36.0    118.0   8.0     5    2  2010    72       C\n",
       "2     12.0    149.0  12.6     5    3  2010    74      PS\n",
       "3     18.0    313.0  11.5     5    4  2010    62       S\n",
       "4      NaN      NaN  14.3     5    5  2010    56       S\n",
       "..     ...      ...   ...   ...  ...   ...   ...     ...\n",
       "153   41.0    190.0   7.4     5    1  2010    67       C\n",
       "154   30.0    193.0   6.9     9   26  2010    70      PS\n",
       "155    NaN    145.0  13.2     9   27  2010    77       S\n",
       "156   14.0    191.0  14.3     9   28  2010    75       S\n",
       "157   18.0    131.0   8.0     9   29  2010    76       C\n",
       "\n",
       "[158 rows x 8 columns]"
      ]
     },
     "execution_count": 7,
     "metadata": {},
     "output_type": "execute_result"
    }
   ],
   "source": [
    "data1=data.drop([\"Unnamed: 0\",\"Temp C\"],axis=1)\n",
    "data1"
   ]
  },
  {
   "cell_type": "code",
   "execution_count": 8,
   "id": "67eeb10e-6a7f-4cd3-99fd-844308a87dab",
   "metadata": {},
   "outputs": [
    {
     "name": "stdout",
     "output_type": "stream",
     "text": [
      "<class 'pandas.core.frame.DataFrame'>\n",
      "RangeIndex: 158 entries, 0 to 157\n",
      "Data columns (total 8 columns):\n",
      " #   Column   Non-Null Count  Dtype  \n",
      "---  ------   --------------  -----  \n",
      " 0   Ozone    120 non-null    float64\n",
      " 1   Solar.R  151 non-null    float64\n",
      " 2   Wind     158 non-null    float64\n",
      " 3   Month    157 non-null    float64\n",
      " 4   Day      158 non-null    int64  \n",
      " 5   Year     158 non-null    int64  \n",
      " 6   Temp     158 non-null    int64  \n",
      " 7   Weather  155 non-null    object \n",
      "dtypes: float64(4), int64(3), object(1)\n",
      "memory usage: 10.0+ KB\n"
     ]
    }
   ],
   "source": [
    "data1['Month']=pd.to_numeric(data['Month'],errors='coerce')\n",
    "data1.info()"
   ]
  },
  {
   "cell_type": "code",
   "execution_count": 9,
   "id": "8bdbae85-eb8a-478d-af2d-c410168b12eb",
   "metadata": {},
   "outputs": [
    {
     "data": {
      "text/html": [
       "<div>\n",
       "<style scoped>\n",
       "    .dataframe tbody tr th:only-of-type {\n",
       "        vertical-align: middle;\n",
       "    }\n",
       "\n",
       "    .dataframe tbody tr th {\n",
       "        vertical-align: top;\n",
       "    }\n",
       "\n",
       "    .dataframe thead th {\n",
       "        text-align: right;\n",
       "    }\n",
       "</style>\n",
       "<table border=\"1\" class=\"dataframe\">\n",
       "  <thead>\n",
       "    <tr style=\"text-align: right;\">\n",
       "      <th></th>\n",
       "      <th>Ozone</th>\n",
       "      <th>Solar.R</th>\n",
       "      <th>Wind</th>\n",
       "      <th>Month</th>\n",
       "      <th>Day</th>\n",
       "      <th>Year</th>\n",
       "      <th>Temp</th>\n",
       "      <th>Weather</th>\n",
       "    </tr>\n",
       "  </thead>\n",
       "  <tbody>\n",
       "    <tr>\n",
       "      <th>150</th>\n",
       "      <td>14.0</td>\n",
       "      <td>191.0</td>\n",
       "      <td>14.3</td>\n",
       "      <td>9.0</td>\n",
       "      <td>28</td>\n",
       "      <td>2010</td>\n",
       "      <td>75</td>\n",
       "      <td>S</td>\n",
       "    </tr>\n",
       "    <tr>\n",
       "      <th>156</th>\n",
       "      <td>14.0</td>\n",
       "      <td>191.0</td>\n",
       "      <td>14.3</td>\n",
       "      <td>9.0</td>\n",
       "      <td>28</td>\n",
       "      <td>2010</td>\n",
       "      <td>75</td>\n",
       "      <td>S</td>\n",
       "    </tr>\n",
       "  </tbody>\n",
       "</table>\n",
       "</div>"
      ],
      "text/plain": [
       "     Ozone  Solar.R  Wind  Month  Day  Year  Temp Weather\n",
       "150   14.0    191.0  14.3    9.0   28  2010    75       S\n",
       "156   14.0    191.0  14.3    9.0   28  2010    75       S"
      ]
     },
     "execution_count": 9,
     "metadata": {},
     "output_type": "execute_result"
    }
   ],
   "source": [
    "data1[data1.duplicated(keep=False)]"
   ]
  },
  {
   "cell_type": "code",
   "execution_count": 10,
   "id": "c6e955f4-9ed7-4ba0-87c8-e444495998f8",
   "metadata": {},
   "outputs": [
    {
     "data": {
      "text/html": [
       "<div>\n",
       "<style scoped>\n",
       "    .dataframe tbody tr th:only-of-type {\n",
       "        vertical-align: middle;\n",
       "    }\n",
       "\n",
       "    .dataframe tbody tr th {\n",
       "        vertical-align: top;\n",
       "    }\n",
       "\n",
       "    .dataframe thead th {\n",
       "        text-align: right;\n",
       "    }\n",
       "</style>\n",
       "<table border=\"1\" class=\"dataframe\">\n",
       "  <thead>\n",
       "    <tr style=\"text-align: right;\">\n",
       "      <th></th>\n",
       "      <th>Ozone</th>\n",
       "      <th>Solar.R</th>\n",
       "      <th>Wind</th>\n",
       "      <th>Month</th>\n",
       "      <th>Day</th>\n",
       "      <th>Year</th>\n",
       "      <th>Temp</th>\n",
       "      <th>Weather</th>\n",
       "    </tr>\n",
       "  </thead>\n",
       "  <tbody>\n",
       "    <tr>\n",
       "      <th>0</th>\n",
       "      <td>41.0</td>\n",
       "      <td>190.0</td>\n",
       "      <td>7.4</td>\n",
       "      <td>5.0</td>\n",
       "      <td>1</td>\n",
       "      <td>2010</td>\n",
       "      <td>67</td>\n",
       "      <td>S</td>\n",
       "    </tr>\n",
       "    <tr>\n",
       "      <th>1</th>\n",
       "      <td>36.0</td>\n",
       "      <td>118.0</td>\n",
       "      <td>8.0</td>\n",
       "      <td>5.0</td>\n",
       "      <td>2</td>\n",
       "      <td>2010</td>\n",
       "      <td>72</td>\n",
       "      <td>C</td>\n",
       "    </tr>\n",
       "    <tr>\n",
       "      <th>2</th>\n",
       "      <td>12.0</td>\n",
       "      <td>149.0</td>\n",
       "      <td>12.6</td>\n",
       "      <td>5.0</td>\n",
       "      <td>3</td>\n",
       "      <td>2010</td>\n",
       "      <td>74</td>\n",
       "      <td>PS</td>\n",
       "    </tr>\n",
       "    <tr>\n",
       "      <th>3</th>\n",
       "      <td>18.0</td>\n",
       "      <td>313.0</td>\n",
       "      <td>11.5</td>\n",
       "      <td>5.0</td>\n",
       "      <td>4</td>\n",
       "      <td>2010</td>\n",
       "      <td>62</td>\n",
       "      <td>S</td>\n",
       "    </tr>\n",
       "    <tr>\n",
       "      <th>4</th>\n",
       "      <td>NaN</td>\n",
       "      <td>NaN</td>\n",
       "      <td>14.3</td>\n",
       "      <td>5.0</td>\n",
       "      <td>5</td>\n",
       "      <td>2010</td>\n",
       "      <td>56</td>\n",
       "      <td>S</td>\n",
       "    </tr>\n",
       "    <tr>\n",
       "      <th>...</th>\n",
       "      <td>...</td>\n",
       "      <td>...</td>\n",
       "      <td>...</td>\n",
       "      <td>...</td>\n",
       "      <td>...</td>\n",
       "      <td>...</td>\n",
       "      <td>...</td>\n",
       "      <td>...</td>\n",
       "    </tr>\n",
       "    <tr>\n",
       "      <th>152</th>\n",
       "      <td>20.0</td>\n",
       "      <td>223.0</td>\n",
       "      <td>11.5</td>\n",
       "      <td>9.0</td>\n",
       "      <td>30</td>\n",
       "      <td>2010</td>\n",
       "      <td>68</td>\n",
       "      <td>S</td>\n",
       "    </tr>\n",
       "    <tr>\n",
       "      <th>153</th>\n",
       "      <td>41.0</td>\n",
       "      <td>190.0</td>\n",
       "      <td>7.4</td>\n",
       "      <td>5.0</td>\n",
       "      <td>1</td>\n",
       "      <td>2010</td>\n",
       "      <td>67</td>\n",
       "      <td>C</td>\n",
       "    </tr>\n",
       "    <tr>\n",
       "      <th>154</th>\n",
       "      <td>30.0</td>\n",
       "      <td>193.0</td>\n",
       "      <td>6.9</td>\n",
       "      <td>9.0</td>\n",
       "      <td>26</td>\n",
       "      <td>2010</td>\n",
       "      <td>70</td>\n",
       "      <td>PS</td>\n",
       "    </tr>\n",
       "    <tr>\n",
       "      <th>155</th>\n",
       "      <td>NaN</td>\n",
       "      <td>145.0</td>\n",
       "      <td>13.2</td>\n",
       "      <td>9.0</td>\n",
       "      <td>27</td>\n",
       "      <td>2010</td>\n",
       "      <td>77</td>\n",
       "      <td>S</td>\n",
       "    </tr>\n",
       "    <tr>\n",
       "      <th>157</th>\n",
       "      <td>18.0</td>\n",
       "      <td>131.0</td>\n",
       "      <td>8.0</td>\n",
       "      <td>9.0</td>\n",
       "      <td>29</td>\n",
       "      <td>2010</td>\n",
       "      <td>76</td>\n",
       "      <td>C</td>\n",
       "    </tr>\n",
       "  </tbody>\n",
       "</table>\n",
       "<p>157 rows × 8 columns</p>\n",
       "</div>"
      ],
      "text/plain": [
       "     Ozone  Solar.R  Wind  Month  Day  Year  Temp Weather\n",
       "0     41.0    190.0   7.4    5.0    1  2010    67       S\n",
       "1     36.0    118.0   8.0    5.0    2  2010    72       C\n",
       "2     12.0    149.0  12.6    5.0    3  2010    74      PS\n",
       "3     18.0    313.0  11.5    5.0    4  2010    62       S\n",
       "4      NaN      NaN  14.3    5.0    5  2010    56       S\n",
       "..     ...      ...   ...    ...  ...   ...   ...     ...\n",
       "152   20.0    223.0  11.5    9.0   30  2010    68       S\n",
       "153   41.0    190.0   7.4    5.0    1  2010    67       C\n",
       "154   30.0    193.0   6.9    9.0   26  2010    70      PS\n",
       "155    NaN    145.0  13.2    9.0   27  2010    77       S\n",
       "157   18.0    131.0   8.0    9.0   29  2010    76       C\n",
       "\n",
       "[157 rows x 8 columns]"
      ]
     },
     "execution_count": 10,
     "metadata": {},
     "output_type": "execute_result"
    }
   ],
   "source": [
    "data1.drop_duplicates(keep='first',inplace=True)\n",
    "data1"
   ]
  },
  {
   "cell_type": "code",
   "execution_count": 11,
   "id": "380752e8-0db3-434f-8543-167379008c54",
   "metadata": {},
   "outputs": [
    {
     "data": {
      "text/html": [
       "<div>\n",
       "<style scoped>\n",
       "    .dataframe tbody tr th:only-of-type {\n",
       "        vertical-align: middle;\n",
       "    }\n",
       "\n",
       "    .dataframe tbody tr th {\n",
       "        vertical-align: top;\n",
       "    }\n",
       "\n",
       "    .dataframe thead th {\n",
       "        text-align: right;\n",
       "    }\n",
       "</style>\n",
       "<table border=\"1\" class=\"dataframe\">\n",
       "  <thead>\n",
       "    <tr style=\"text-align: right;\">\n",
       "      <th></th>\n",
       "      <th>Ozone</th>\n",
       "      <th>Solar</th>\n",
       "      <th>Wind</th>\n",
       "      <th>Month</th>\n",
       "      <th>Day</th>\n",
       "      <th>Year</th>\n",
       "      <th>Temp</th>\n",
       "      <th>Weather</th>\n",
       "    </tr>\n",
       "  </thead>\n",
       "  <tbody>\n",
       "    <tr>\n",
       "      <th>0</th>\n",
       "      <td>41.0</td>\n",
       "      <td>190.0</td>\n",
       "      <td>7.4</td>\n",
       "      <td>5.0</td>\n",
       "      <td>1</td>\n",
       "      <td>2010</td>\n",
       "      <td>67</td>\n",
       "      <td>S</td>\n",
       "    </tr>\n",
       "    <tr>\n",
       "      <th>1</th>\n",
       "      <td>36.0</td>\n",
       "      <td>118.0</td>\n",
       "      <td>8.0</td>\n",
       "      <td>5.0</td>\n",
       "      <td>2</td>\n",
       "      <td>2010</td>\n",
       "      <td>72</td>\n",
       "      <td>C</td>\n",
       "    </tr>\n",
       "    <tr>\n",
       "      <th>2</th>\n",
       "      <td>12.0</td>\n",
       "      <td>149.0</td>\n",
       "      <td>12.6</td>\n",
       "      <td>5.0</td>\n",
       "      <td>3</td>\n",
       "      <td>2010</td>\n",
       "      <td>74</td>\n",
       "      <td>PS</td>\n",
       "    </tr>\n",
       "    <tr>\n",
       "      <th>3</th>\n",
       "      <td>18.0</td>\n",
       "      <td>313.0</td>\n",
       "      <td>11.5</td>\n",
       "      <td>5.0</td>\n",
       "      <td>4</td>\n",
       "      <td>2010</td>\n",
       "      <td>62</td>\n",
       "      <td>S</td>\n",
       "    </tr>\n",
       "    <tr>\n",
       "      <th>4</th>\n",
       "      <td>NaN</td>\n",
       "      <td>NaN</td>\n",
       "      <td>14.3</td>\n",
       "      <td>5.0</td>\n",
       "      <td>5</td>\n",
       "      <td>2010</td>\n",
       "      <td>56</td>\n",
       "      <td>S</td>\n",
       "    </tr>\n",
       "    <tr>\n",
       "      <th>...</th>\n",
       "      <td>...</td>\n",
       "      <td>...</td>\n",
       "      <td>...</td>\n",
       "      <td>...</td>\n",
       "      <td>...</td>\n",
       "      <td>...</td>\n",
       "      <td>...</td>\n",
       "      <td>...</td>\n",
       "    </tr>\n",
       "    <tr>\n",
       "      <th>152</th>\n",
       "      <td>20.0</td>\n",
       "      <td>223.0</td>\n",
       "      <td>11.5</td>\n",
       "      <td>9.0</td>\n",
       "      <td>30</td>\n",
       "      <td>2010</td>\n",
       "      <td>68</td>\n",
       "      <td>S</td>\n",
       "    </tr>\n",
       "    <tr>\n",
       "      <th>153</th>\n",
       "      <td>41.0</td>\n",
       "      <td>190.0</td>\n",
       "      <td>7.4</td>\n",
       "      <td>5.0</td>\n",
       "      <td>1</td>\n",
       "      <td>2010</td>\n",
       "      <td>67</td>\n",
       "      <td>C</td>\n",
       "    </tr>\n",
       "    <tr>\n",
       "      <th>154</th>\n",
       "      <td>30.0</td>\n",
       "      <td>193.0</td>\n",
       "      <td>6.9</td>\n",
       "      <td>9.0</td>\n",
       "      <td>26</td>\n",
       "      <td>2010</td>\n",
       "      <td>70</td>\n",
       "      <td>PS</td>\n",
       "    </tr>\n",
       "    <tr>\n",
       "      <th>155</th>\n",
       "      <td>NaN</td>\n",
       "      <td>145.0</td>\n",
       "      <td>13.2</td>\n",
       "      <td>9.0</td>\n",
       "      <td>27</td>\n",
       "      <td>2010</td>\n",
       "      <td>77</td>\n",
       "      <td>S</td>\n",
       "    </tr>\n",
       "    <tr>\n",
       "      <th>157</th>\n",
       "      <td>18.0</td>\n",
       "      <td>131.0</td>\n",
       "      <td>8.0</td>\n",
       "      <td>9.0</td>\n",
       "      <td>29</td>\n",
       "      <td>2010</td>\n",
       "      <td>76</td>\n",
       "      <td>C</td>\n",
       "    </tr>\n",
       "  </tbody>\n",
       "</table>\n",
       "<p>157 rows × 8 columns</p>\n",
       "</div>"
      ],
      "text/plain": [
       "     Ozone  Solar  Wind  Month  Day  Year  Temp Weather\n",
       "0     41.0  190.0   7.4    5.0    1  2010    67       S\n",
       "1     36.0  118.0   8.0    5.0    2  2010    72       C\n",
       "2     12.0  149.0  12.6    5.0    3  2010    74      PS\n",
       "3     18.0  313.0  11.5    5.0    4  2010    62       S\n",
       "4      NaN    NaN  14.3    5.0    5  2010    56       S\n",
       "..     ...    ...   ...    ...  ...   ...   ...     ...\n",
       "152   20.0  223.0  11.5    9.0   30  2010    68       S\n",
       "153   41.0  190.0   7.4    5.0    1  2010    67       C\n",
       "154   30.0  193.0   6.9    9.0   26  2010    70      PS\n",
       "155    NaN  145.0  13.2    9.0   27  2010    77       S\n",
       "157   18.0  131.0   8.0    9.0   29  2010    76       C\n",
       "\n",
       "[157 rows x 8 columns]"
      ]
     },
     "execution_count": 11,
     "metadata": {},
     "output_type": "execute_result"
    }
   ],
   "source": [
    "data1.rename({'Solar.R':'Solar'},axis=1,inplace=True)\n",
    "data1"
   ]
  },
  {
   "cell_type": "markdown",
   "id": "b96cf36e-15f7-48ed-9b61-64b91d8a63c8",
   "metadata": {},
   "source": [
    "Impute the missing values"
   ]
  },
  {
   "cell_type": "code",
   "execution_count": 13,
   "id": "c9c2450f-b984-44d8-9388-4b7f657257ae",
   "metadata": {},
   "outputs": [
    {
     "data": {
      "text/plain": [
       "Ozone      38\n",
       "Solar       7\n",
       "Wind        0\n",
       "Month       1\n",
       "Day         0\n",
       "Year        0\n",
       "Temp        0\n",
       "Weather     3\n",
       "dtype: int64"
      ]
     },
     "execution_count": 13,
     "metadata": {},
     "output_type": "execute_result"
    }
   ],
   "source": [
    "#Display data1 missing values count in each column using isnull().sum()\n",
    "data1.isnull().sum()"
   ]
  },
  {
   "cell_type": "code",
   "execution_count": 14,
   "id": "934095ba-e834-4a10-aa4c-4076ea590872",
   "metadata": {},
   "outputs": [
    {
     "data": {
      "text/plain": [
       "<Axes: >"
      ]
     },
     "execution_count": 14,
     "metadata": {},
     "output_type": "execute_result"
    },
    {
     "data": {
      "image/png": "[encoded data removed]",
      "text/plain": [
       "<Figure size 640x480 with 2 Axes>"
      ]
     },
     "metadata": {},
     "output_type": "display_data"
    }
   ],
   "source": [
    "cols=data1.columns\n",
    "colors=['brown','white']\n",
    "sns.heatmap(data1[cols].isnull(),cmap=sns.color_palette(colors),cbar=True)"
   ]
  },
  {
   "cell_type": "code",
   "execution_count": 15,
   "id": "526d2697-8f72-43b4-9595-fd88960c345f",
   "metadata": {},
   "outputs": [
    {
     "name": "stdout",
     "output_type": "stream",
     "text": [
      "Median of Ozone:  31.0\n",
      "Mean of Ozone:  41.81512605042017\n"
     ]
    }
   ],
   "source": [
    "median_ozone=data1[\"Ozone\"].median()\n",
    "mean_ozone=data1[\"Ozone\"].mean()\n",
    "print(\"Median of Ozone: \",median_ozone)\n",
    "print(\"Mean of Ozone: \",mean_ozone)"
   ]
  },
  {
   "cell_type": "code",
   "execution_count": 16,
   "id": "e6fb26c3-2d46-42de-8a4b-6ec62cb67c37",
   "metadata": {},
   "outputs": [
    {
     "data": {
      "text/plain": [
       "Ozone      0\n",
       "Solar      7\n",
       "Wind       0\n",
       "Month      1\n",
       "Day        0\n",
       "Year       0\n",
       "Temp       0\n",
       "Weather    3\n",
       "dtype: int64"
      ]
     },
     "execution_count": 16,
     "metadata": {},
     "output_type": "execute_result"
    }
   ],
   "source": [
    "data1['Ozone']=data1['Ozone'].fillna(median_ozone)\n",
    "data1.isnull().sum()"
   ]
  },
  {
   "cell_type": "code",
   "execution_count": 17,
   "id": "d49343b1-dc2e-40a9-aab0-6fd88cc3ec9c",
   "metadata": {},
   "outputs": [
    {
     "name": "stdout",
     "output_type": "stream",
     "text": [
      "Median of Solar:  199.0\n",
      "Mean of Solar:  185.36666666666667\n"
     ]
    },
    {
     "data": {
      "text/plain": [
       "Ozone      0\n",
       "Solar      0\n",
       "Wind       0\n",
       "Month      1\n",
       "Day        0\n",
       "Year       0\n",
       "Temp       0\n",
       "Weather    3\n",
       "dtype: int64"
      ]
     },
     "execution_count": 17,
     "metadata": {},
     "output_type": "execute_result"
    }
   ],
   "source": [
    "median_Solar=data1[\"Solar\"].median()\n",
    "mean_Solar=data1[\"Solar\"].mean()\n",
    "print(\"Median of Solar: \",median_Solar)\n",
    "print(\"Mean of Solar: \",mean_Solar)\n",
    "data1['Solar']=data1['Solar'].fillna(mean_Solar)\n",
    "data1.isnull().sum()"
   ]
  },
  {
   "cell_type": "code",
   "execution_count": 18,
   "id": "6f73b506-a4e3-49f9-aff0-34baa5cfc7eb",
   "metadata": {},
   "outputs": [
    {
     "name": "stdout",
     "output_type": "stream",
     "text": [
      "Weather\n",
      "S     58\n",
      "C     49\n",
      "PS    47\n",
      "Name: count, dtype: int64\n",
      "S\n"
     ]
    }
   ],
   "source": [
    "print(data1[\"Weather\"].value_counts())\n",
    "mode_Weather = data1[\"Weather\"].mode()[0]\n",
    "print(mode_Weather)"
   ]
  },
  {
   "cell_type": "code",
   "execution_count": 19,
   "id": "e2d62d28-dfcf-4a84-ad37-5c4305c75391",
   "metadata": {},
   "outputs": [
    {
     "data": {
      "text/plain": [
       "Ozone      0\n",
       "Solar      0\n",
       "Wind       0\n",
       "Month      1\n",
       "Day        0\n",
       "Year       0\n",
       "Temp       0\n",
       "Weather    0\n",
       "dtype: int64"
      ]
     },
     "execution_count": 19,
     "metadata": {},
     "output_type": "execute_result"
    }
   ],
   "source": [
    "data1[\"Weather\"] = data1[\"Weather\"].fillna(mode_Weather)\n",
    "data1.isnull().sum()"
   ]
  },
  {
   "cell_type": "code",
   "execution_count": 20,
   "id": "fd2e75b9-7ae7-406d-bc0d-45f008c9440d",
   "metadata": {},
   "outputs": [
    {
     "name": "stdout",
     "output_type": "stream",
     "text": [
      "Month\n",
      "9.0    33\n",
      "5.0    31\n",
      "7.0    31\n",
      "8.0    31\n",
      "6.0    30\n",
      "Name: count, dtype: int64\n",
      "9.0\n"
     ]
    },
    {
     "data": {
      "text/plain": [
       "Ozone      0\n",
       "Solar      0\n",
       "Wind       0\n",
       "Month      0\n",
       "Day        0\n",
       "Year       0\n",
       "Temp       0\n",
       "Weather    0\n",
       "dtype: int64"
      ]
     },
     "execution_count": 20,
     "metadata": {},
     "output_type": "execute_result"
    }
   ],
   "source": [
    "print(data1[\"Month\"].value_counts())\n",
    "mode_Month = data1[\"Month\"].mode()[0]\n",
    "print(mode_Month)\n",
    "data1[\"Month\"] = data1[\"Month\"].fillna(mode_Month)\n",
    "data1.isnull().sum()"
   ]
  },
  {
   "cell_type": "code",
   "execution_count": 21,
   "id": "3b98df38-ceaf-458f-8ed2-b5bd4954cff2",
   "metadata": {},
   "outputs": [
    {
     "data": {
      "image/png": "[encoded data removed]",
      "text/plain": [
       "<Figure size 800x600 with 2 Axes>"
      ]
     },
     "metadata": {},
     "output_type": "display_data"
    }
   ],
   "source": [
    "import matplotlib.pyplot as plt\n",
    "import seaborn as sns\n",
    "\n",
    "fig, axes = plt.subplots(2, 1, figsize=(8, 6), gridspec_kw={'height_ratios': [1, 3]})\n",
    "\n",
    "\n",
    "sns.boxplot(data=data1[\"Ozone\"], ax=axes[0], color='skyblue', width=0.5)\n",
    "axes[0].set_title(\"Box plot\")\n",
    "axes[0].set_xlabel(\"Box plot\")\n",
    "\n",
    "sns.histplot(data1[\"Ozone\"], kde=True, ax=axes[1], color='purple', bins=30)\n",
    "axes[1].set_title(\"Histogram with KDE\")\n",
    "axes[1].set_xlabel(\"Ozone Levels\")\n",
    "axes[1].set_ylabel(\"Frequency\")\n",
    "\n",
    "\n",
    "plt.tight_layout()\n",
    "\n",
    "plt.show()\n"
   ]
  },
  {
   "cell_type": "markdown",
   "id": "363bea52-0cdb-4d3e-857e-2490a713f0da",
   "metadata": {},
   "source": [
    "Observations\n",
    " The ozone column has extreme has extreme values beyond 81 as seen from box plot\n",
    " The same is confirmed from the below right_skewed histogram"
   ]
  },
  {
   "cell_type": "code",
   "execution_count": 23,
   "id": "2b39e85a-03dc-4d3c-9638-6ff2278d3f27",
   "metadata": {},
   "outputs": [
    {
     "data": {
      "image/png": "[encoded data removed]",
      "text/plain": [
       "<Figure size 800x600 with 2 Axes>"
      ]
     },
     "metadata": {},
     "output_type": "display_data"
    }
   ],
   "source": [
    "import matplotlib.pyplot as plt\n",
    "import seaborn as sns\n",
    "\n",
    "fig, axes = plt.subplots(2, 1, figsize=(8, 6), gridspec_kw={'height_ratios': [1, 3]})\n",
    "\n",
    "\n",
    "sns.boxplot(data=data1[\"Solar\"], ax=axes[0], color='black', width=0.5)\n",
    "axes[0].set_title(\"Box plot\")\n",
    "axes[0].set_xlabel(\"Box plot\")\n",
    "\n",
    "sns.histplot(data1[\"Solar\"], kde=True, ax=axes[1], color='yellow', bins=30)\n",
    "axes[1].set_title(\"Histogram with KDE\")\n",
    "axes[1].set_xlabel(\"Solar Levels\")\n",
    "axes[1].set_ylabel(\"Frequency\")\n",
    "\n",
    "\n",
    "plt.tight_layout()\n",
    "\n",
    "plt.show()\n"
   ]
  },
  {
   "cell_type": "markdown",
   "id": "26ad6541-d5a6-422e-a7d8-9728bbb92ad1",
   "metadata": {},
   "source": [
    "Observation\n",
    "    from above graph we observe there are no outliers \n",
    "    solar column distribution is not perfect but it has no outliers."
   ]
  },
  {
   "cell_type": "code",
   "execution_count": 68,
   "id": "1e8215b8-94ab-4764-8b1f-a40246b8c793",
   "metadata": {},
   "outputs": [
    {
     "data": {
      "text/plain": [
       "{'whiskers': [<matplotlib.lines.Line2D at 0x2203b90e4b0>,\n",
       "  <matplotlib.lines.Line2D at 0x2203b90e780>],\n",
       " 'caps': [<matplotlib.lines.Line2D at 0x2203b90ea80>,\n",
       "  <matplotlib.lines.Line2D at 0x2203b90ec30>],\n",
       " 'boxes': [<matplotlib.lines.Line2D at 0x2203b90e1b0>],\n",
       " 'medians': [<matplotlib.lines.Line2D at 0x2203b90ef30>],\n",
       " 'fliers': [<matplotlib.lines.Line2D at 0x2203b90f200>],\n",
       " 'means': []}"
      ]
     },
     "execution_count": 68,
     "metadata": {},
     "output_type": "execute_result"
    },
    {
     "data": {
      "image/png": "[encoded data removed]",
      "text/plain": [
       "<Figure size 600x200 with 1 Axes>"
      ]
     },
     "metadata": {},
     "output_type": "display_data"
    }
   ],
   "source": [
    "plt.figure(figsize=(6,2))\n",
    "plt.boxplot(data1[\"Ozone\"], vert= False)"
   ]
  },
  {
   "cell_type": "code",
   "execution_count": 70,
   "id": "2286a2ae-b180-4323-a288-d4e47c679cf7",
   "metadata": {},
   "outputs": [
    {
     "data": {
      "text/plain": [
       "[array([115., 135.,  97.,  97.,  85., 108.,  82., 122.,  89., 110., 168.,\n",
       "        118.,  84.,  85.,  96.,  91.])]"
      ]
     },
     "execution_count": 70,
     "metadata": {},
     "output_type": "execute_result"
    },
    {
     "data": {
      "image/png": "[encoded data removed]",
      "text/plain": [
       "<Figure size 600x200 with 1 Axes>"
      ]
     },
     "metadata": {},
     "output_type": "display_data"
    }
   ],
   "source": [
    "plt.figure(figsize=(6,2))\n",
    "boxplot_data = plt.boxplot(data1[\"Ozone\"], vert= False)\n",
    "[item.get_xdata() for item in boxplot_data['fliers']]"
   ]
  },
  {
   "cell_type": "code",
   "execution_count": 72,
   "id": "2ee44d81-9a98-43a4-b2ad-4fc51cca0a6d",
   "metadata": {},
   "outputs": [
    {
     "data": {
      "text/plain": [
       "count    157.000000\n",
       "mean      39.197452\n",
       "std       28.781992\n",
       "min        1.000000\n",
       "25%       21.000000\n",
       "50%       31.000000\n",
       "75%       45.000000\n",
       "max      168.000000\n",
       "Name: Ozone, dtype: float64"
      ]
     },
     "execution_count": 72,
     "metadata": {},
     "output_type": "execute_result"
    }
   ],
   "source": [
    "data1[\"Ozone\"].describe()"
   ]
  },
  {
   "cell_type": "code",
   "execution_count": 74,
   "id": "a962b5b7-d3b3-4e56-b23c-62700ce3f131",
   "metadata": {},
   "outputs": [
    {
     "name": "stdout",
     "output_type": "stream",
     "text": [
      "41.0\n",
      "36.0\n",
      "12.0\n",
      "18.0\n",
      "31.0\n",
      "28.0\n",
      "23.0\n",
      "19.0\n",
      "8.0\n",
      "31.0\n",
      "7.0\n",
      "16.0\n",
      "11.0\n",
      "14.0\n",
      "18.0\n",
      "14.0\n",
      "34.0\n",
      "6.0\n",
      "30.0\n",
      "11.0\n",
      "1.0\n",
      "11.0\n",
      "4.0\n",
      "32.0\n",
      "31.0\n",
      "31.0\n",
      "31.0\n",
      "23.0\n",
      "45.0\n",
      "115.0\n",
      "37.0\n",
      "31.0\n",
      "31.0\n",
      "31.0\n",
      "31.0\n",
      "31.0\n",
      "31.0\n",
      "29.0\n",
      "31.0\n",
      "71.0\n",
      "39.0\n",
      "31.0\n",
      "31.0\n",
      "23.0\n",
      "31.0\n",
      "31.0\n",
      "21.0\n",
      "37.0\n",
      "20.0\n",
      "12.0\n",
      "13.0\n",
      "31.0\n",
      "31.0\n",
      "31.0\n",
      "31.0\n",
      "31.0\n",
      "31.0\n",
      "31.0\n",
      "31.0\n",
      "31.0\n",
      "31.0\n",
      "135.0\n",
      "49.0\n",
      "32.0\n",
      "31.0\n",
      "64.0\n",
      "40.0\n",
      "77.0\n",
      "97.0\n",
      "97.0\n",
      "85.0\n",
      "31.0\n",
      "10.0\n",
      "27.0\n",
      "31.0\n",
      "7.0\n",
      "48.0\n",
      "35.0\n",
      "61.0\n",
      "79.0\n",
      "63.0\n",
      "16.0\n",
      "31.0\n",
      "31.0\n",
      "80.0\n",
      "108.0\n",
      "20.0\n",
      "52.0\n",
      "82.0\n",
      "50.0\n",
      "64.0\n",
      "59.0\n",
      "39.0\n",
      "9.0\n",
      "16.0\n",
      "78.0\n",
      "35.0\n",
      "66.0\n",
      "122.0\n",
      "89.0\n",
      "110.0\n",
      "31.0\n",
      "31.0\n",
      "44.0\n",
      "28.0\n",
      "65.0\n",
      "31.0\n",
      "22.0\n",
      "59.0\n",
      "23.0\n",
      "31.0\n",
      "44.0\n",
      "21.0\n",
      "9.0\n",
      "31.0\n",
      "45.0\n",
      "168.0\n",
      "73.0\n",
      "31.0\n",
      "76.0\n",
      "118.0\n",
      "84.0\n",
      "85.0\n",
      "96.0\n",
      "78.0\n",
      "73.0\n",
      "91.0\n",
      "47.0\n",
      "32.0\n",
      "20.0\n",
      "23.0\n",
      "21.0\n",
      "24.0\n",
      "44.0\n",
      "21.0\n",
      "28.0\n",
      "9.0\n",
      "13.0\n",
      "46.0\n",
      "18.0\n",
      "13.0\n",
      "24.0\n",
      "16.0\n",
      "13.0\n",
      "23.0\n",
      "36.0\n",
      "7.0\n",
      "14.0\n",
      "30.0\n",
      "31.0\n",
      "14.0\n",
      "18.0\n",
      "20.0\n",
      "41.0\n",
      "30.0\n",
      "31.0\n",
      "18.0\n"
     ]
    },
    {
     "name": "stderr",
     "output_type": "stream",
     "text": [
      "C:\\Users\\Admin\\AppData\\Local\\Temp\\ipykernel_412\\1600577100.py:1: FutureWarning: Series.__getitem__ treating keys as positions is deprecated. In a future version, integer keys will always be treated as labels (consistent with DataFrame behavior). To access a value by position, use `ser.iloc[pos]`\n",
      "  mu = data1[\"Ozone\"].describe()[1]\n",
      "C:\\Users\\Admin\\AppData\\Local\\Temp\\ipykernel_412\\1600577100.py:2: FutureWarning: Series.__getitem__ treating keys as positions is deprecated. In a future version, integer keys will always be treated as labels (consistent with DataFrame behavior). To access a value by position, use `ser.iloc[pos]`\n",
      "  sigma = data1[\"Ozone\"].describe()[2]\n"
     ]
    }
   ],
   "source": [
    "mu = data1[\"Ozone\"].describe()[1]\n",
    "sigma = data1[\"Ozone\"].describe()[2]\n",
    "\n",
    "for x in data1[\"Ozone\"]:\n",
    "    if ((x < (mu - 3*sigma)) or (x > (mu - 3*sigma))):\n",
    "        print(x)"
   ]
  },
  {
   "cell_type": "code",
   "execution_count": 76,
   "id": "5efec242-db24-40b4-b4e7-ce2f7bc135e6",
   "metadata": {},
   "outputs": [
    {
     "data": {
      "text/plain": [
       "Text(0.5, 0, 'Theoretical Quantiles')"
      ]
     },
     "execution_count": 76,
     "metadata": {},
     "output_type": "execute_result"
    },
    {
     "data": {
      "image/png": "[encoded data removed]",
      "text/plain": [
       "<Figure size 800x600 with 1 Axes>"
      ]
     },
     "metadata": {},
     "output_type": "display_data"
    }
   ],
   "source": [
    "import scipy.stats as stats\n",
    "plt.figure(figsize=(8,6))\n",
    "stats.probplot(data1[\"Ozone\"],dist=\"norm\",plot=plt)\n",
    "plt.title(\"Q-Q plot for Outlier Detection\", fontsize=14)\n",
    "plt.xlabel(\"Theoretical Quantiles\",fontsize = 12)"
   ]
  },
  {
   "cell_type": "markdown",
   "id": "f82e9d3e-c266-46b1-9992-4ca0293438a5",
   "metadata": {},
   "source": [
    "Observations from Q-Q plot\n",
    "* The dat doen not follow normal distribution as the data points are deviating significantly away from the red line\n",
    "* The data shows a right_skewed distribution an d[ossible outliers"
   ]
  },
  {
   "cell_type": "code",
   "execution_count": null,
   "id": "aba89e2a-b483-4953-87a0-8d0aba111ac1",
   "metadata": {},
   "outputs": [],
   "source": []
  }
 ],
 "metadata": {
  "kernelspec": {
   "display_name": "Python [conda env:base] *",
   "language": "python",
   "name": "conda-base-py"
  },
  "language_info": {
   "codemirror_mode": {
    "name": "ipython",
    "version": 3
   },
   "file_extension": ".py",
   "mimetype": "text/x-python",
   "name": "python",
   "nbconvert_exporter": "python",
   "pygments_lexer": "ipython3",
   "version": "3.12.7"
  }
 },
 "nbformat": 4,
 "nbformat_minor": 5
}
